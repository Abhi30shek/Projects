{
 "cells": [
  {
   "cell_type": "code",
   "execution_count": 1,
   "id": "f3050f5c",
   "metadata": {},
   "outputs": [],
   "source": [
    "import pandas as pd\n",
    "import numpy as np\n",
    "import matplotlib.pyplot as plt\n",
    "import seaborn as sns\n",
    "%matplotlib inline\n",
    "from scipy.stats import norm "
   ]
  },
  {
   "cell_type": "markdown",
   "id": "f2407d2d",
   "metadata": {},
   "source": [
    "# Problem 1"
   ]
  },
  {
   "cell_type": "code",
   "execution_count": 2,
   "id": "44751173",
   "metadata": {},
   "outputs": [
    {
     "data": {
      "text/html": [
       "<div>\n",
       "<style scoped>\n",
       "    .dataframe tbody tr th:only-of-type {\n",
       "        vertical-align: middle;\n",
       "    }\n",
       "\n",
       "    .dataframe tbody tr th {\n",
       "        vertical-align: top;\n",
       "    }\n",
       "\n",
       "    .dataframe thead th {\n",
       "        text-align: right;\n",
       "    }\n",
       "</style>\n",
       "<table border=\"1\" class=\"dataframe\">\n",
       "  <thead>\n",
       "    <tr style=\"text-align: right;\">\n",
       "      <th></th>\n",
       "      <th>Unnamed: 0</th>\n",
       "      <th>Striker</th>\n",
       "      <th>Forward</th>\n",
       "      <th>Attacking Midfielder</th>\n",
       "      <th>Winger</th>\n",
       "      <th>Total</th>\n",
       "    </tr>\n",
       "  </thead>\n",
       "  <tbody>\n",
       "    <tr>\n",
       "      <th>0</th>\n",
       "      <td>Players Injured</td>\n",
       "      <td>45</td>\n",
       "      <td>56</td>\n",
       "      <td>24</td>\n",
       "      <td>20</td>\n",
       "      <td>145</td>\n",
       "    </tr>\n",
       "    <tr>\n",
       "      <th>1</th>\n",
       "      <td>Players Not Injured</td>\n",
       "      <td>32</td>\n",
       "      <td>38</td>\n",
       "      <td>11</td>\n",
       "      <td>9</td>\n",
       "      <td>90</td>\n",
       "    </tr>\n",
       "    <tr>\n",
       "      <th>2</th>\n",
       "      <td>Total</td>\n",
       "      <td>77</td>\n",
       "      <td>94</td>\n",
       "      <td>35</td>\n",
       "      <td>29</td>\n",
       "      <td>235</td>\n",
       "    </tr>\n",
       "  </tbody>\n",
       "</table>\n",
       "</div>"
      ],
      "text/plain": [
       "            Unnamed: 0  Striker  Forward  Attacking Midfielder  Winger  Total\n",
       "0      Players Injured       45       56                    24      20    145\n",
       "1  Players Not Injured       32       38                    11       9     90\n",
       "2                Total       77       94                    35      29    235"
      ]
     },
     "execution_count": 2,
     "metadata": {},
     "output_type": "execute_result"
    }
   ],
   "source": [
    "pd.read_csv(r'C:\\Users\\aprad\\OneDrive\\Desktop\\Football.csv')"
   ]
  },
  {
   "cell_type": "markdown",
   "id": "26b708a1",
   "metadata": {},
   "source": [
    "1.1 What is the probability that a randomly chosen player would suffer an injury?"
   ]
  },
  {
   "cell_type": "code",
   "execution_count": 3,
   "id": "5fedeba5",
   "metadata": {},
   "outputs": [],
   "source": [
    "P1=145/235"
   ]
  },
  {
   "cell_type": "code",
   "execution_count": 4,
   "id": "ef9a0189",
   "metadata": {},
   "outputs": [
    {
     "data": {
      "text/plain": [
       "0.6170212765957447"
      ]
     },
     "execution_count": 4,
     "metadata": {},
     "output_type": "execute_result"
    }
   ],
   "source": [
    "P1"
   ]
  },
  {
   "cell_type": "markdown",
   "id": "bdffdd8c",
   "metadata": {},
   "source": [
    "1.2 What is the probability that a player is a forward or a winger?"
   ]
  },
  {
   "cell_type": "code",
   "execution_count": 5,
   "id": "85800db5",
   "metadata": {},
   "outputs": [],
   "source": [
    "P2=(94/235)+(29/235)"
   ]
  },
  {
   "cell_type": "code",
   "execution_count": 7,
   "id": "0eb7e9dd",
   "metadata": {},
   "outputs": [
    {
     "data": {
      "text/plain": [
       "0.5234042553191489"
      ]
     },
     "execution_count": 7,
     "metadata": {},
     "output_type": "execute_result"
    }
   ],
   "source": [
    "P2"
   ]
  },
  {
   "cell_type": "markdown",
   "id": "768706ed",
   "metadata": {},
   "source": [
    "1.3 What is the probability that a randomly chosen player plays in a striker position and has a foot injury?"
   ]
  },
  {
   "cell_type": "code",
   "execution_count": 16,
   "id": "3293ae63",
   "metadata": {},
   "outputs": [],
   "source": [
    "P3=45/235"
   ]
  },
  {
   "cell_type": "code",
   "execution_count": 17,
   "id": "8f51d181",
   "metadata": {},
   "outputs": [
    {
     "data": {
      "text/plain": [
       "0.19148936170212766"
      ]
     },
     "execution_count": 17,
     "metadata": {},
     "output_type": "execute_result"
    }
   ],
   "source": [
    "P3"
   ]
  },
  {
   "cell_type": "markdown",
   "id": "f9157026",
   "metadata": {},
   "source": [
    "1.4 What is the probability that a randomly chosen injured player is a striker?"
   ]
  },
  {
   "cell_type": "code",
   "execution_count": 10,
   "id": "ef4ccc25",
   "metadata": {},
   "outputs": [],
   "source": [
    "P4=45/145"
   ]
  },
  {
   "cell_type": "code",
   "execution_count": 11,
   "id": "58714bf0",
   "metadata": {},
   "outputs": [
    {
     "data": {
      "text/plain": [
       "0.3103448275862069"
      ]
     },
     "execution_count": 11,
     "metadata": {},
     "output_type": "execute_result"
    }
   ],
   "source": [
    "P4"
   ]
  },
  {
   "cell_type": "markdown",
   "id": "24d351d7",
   "metadata": {},
   "source": [
    "1.5 What is the probability that a randomly chosen injured player is either a forward or an attacking midfielder? "
   ]
  },
  {
   "cell_type": "code",
   "execution_count": 14,
   "id": "bb7d6417",
   "metadata": {},
   "outputs": [],
   "source": [
    "P5=(56/145)+(24/145)"
   ]
  },
  {
   "cell_type": "code",
   "execution_count": 15,
   "id": "b5db6ad9",
   "metadata": {},
   "outputs": [
    {
     "data": {
      "text/plain": [
       "0.5517241379310345"
      ]
     },
     "execution_count": 15,
     "metadata": {},
     "output_type": "execute_result"
    }
   ],
   "source": [
    "P5"
   ]
  },
  {
   "cell_type": "markdown",
   "id": "3f321845",
   "metadata": {},
   "source": [
    "# Problem 2"
   ]
  },
  {
   "cell_type": "markdown",
   "id": "89434500",
   "metadata": {},
   "source": [
    "2.1 What are the probabilities of a fire, a mechanical failure, and a human error respectively?"
   ]
  },
  {
   "cell_type": "code",
   "execution_count": 30,
   "id": "cd7ace8a",
   "metadata": {},
   "outputs": [],
   "source": [
    "Fire=0.2\n",
    "Mechanical_failure=0.5\n",
    "Human_error=0.1\n",
    "R_Fire=0.001\n",
    "R_Mechanical_failure=0.0015\n",
    "R_Human_error=0.0012"
   ]
  },
  {
   "cell_type": "code",
   "execution_count": 31,
   "id": "98c600ef",
   "metadata": {},
   "outputs": [
    {
     "name": "stdout",
     "output_type": "stream",
     "text": [
      "        Accident Type  Probability\n",
      "0        Fire Hazards        0.250\n",
      "1  Mechanical Failure        0.625\n",
      "2         Human Error        0.125\n"
     ]
    }
   ],
   "source": [
    "P_Fire = Fire / (Fire+Mechanical_failure+Human_error)\n",
    "P_Mechanical =  Mechanical_failure / (Fire+Mechanical_failure+Human_error)\n",
    "P_Human =  Human_error / (Fire+Mechanical_failure+Human_error)\n",
    "\n",
    "data = {'Accident Type': ['Fire Hazards', 'Mechanical Failure', 'Human Error'],\n",
    "        'Probability': [P_Fire, P_Mechanical, P_Human]}\n",
    "df = pd.DataFrame(data)\n",
    "print(df)\n"
   ]
  },
  {
   "cell_type": "markdown",
   "id": "3365cef4",
   "metadata": {},
   "source": [
    "2.2 What is the probability of a radiation leak?"
   ]
  },
  {
   "cell_type": "code",
   "execution_count": 36,
   "id": "1659515a",
   "metadata": {},
   "outputs": [
    {
     "name": "stdout",
     "output_type": "stream",
     "text": [
      "Probability of a radiation leak is  0.0037\n"
     ]
    }
   ],
   "source": [
    "P_RadiationLeakage= R_Fire+R_Mechanical_failure+R_Human_error\n",
    "print(\"Probability of a radiation leak is \",P_RadiationLeakage)"
   ]
  },
  {
   "cell_type": "markdown",
   "id": "0fa6ff39",
   "metadata": {},
   "source": [
    "2.3 Suppose there has been a radiation leak in the reactor for which the definite cause is not known. What is the probability that it has been caused by:"
   ]
  },
  {
   "cell_type": "code",
   "execution_count": 39,
   "id": "ec75e152",
   "metadata": {},
   "outputs": [
    {
     "name": "stdout",
     "output_type": "stream",
     "text": [
      "Probability of a radiation leak by Fire:  0.2702702702702703\n",
      "Probability of a radiation leak by Mechanical Failure:  0.4054054054054054\n",
      "Probability of a radiation leak by Human Erro:  0.3243243243243243\n"
     ]
    }
   ],
   "source": [
    "Fire=R_Fire/P_RadiationLeakage\n",
    "M=R_Mechanical_failure/P_RadiationLeakage\n",
    "H=R_Human_error/P_RadiationLeakage\n",
    "print(\"Probability of a radiation leak by Fire: \",Fire)\n",
    "print(\"Probability of a radiation leak by Mechanical Failure: \",M)\n",
    "print(\"Probability of a radiation leak by Human Erro: \",H)"
   ]
  },
  {
   "cell_type": "markdown",
   "id": "d82d19b1",
   "metadata": {},
   "source": [
    "# Problem 3:"
   ]
  },
  {
   "cell_type": "markdown",
   "id": "130d2c8c",
   "metadata": {},
   "source": [
    "3.1 What proportion of the gunny bags have a breaking strength less than 3.17 kg per sq cm?"
   ]
  },
  {
   "cell_type": "code",
   "execution_count": 46,
   "id": "b3026884",
   "metadata": {},
   "outputs": [],
   "source": [
    "mu=5\n",
    "sigma=1.5\n",
    "x_bar=3.17"
   ]
  },
  {
   "cell_type": "code",
   "execution_count": 50,
   "id": "05788def",
   "metadata": {},
   "outputs": [
    {
     "data": {
      "application/javascript": [
       "\n",
       "        if (window._pyforest_update_imports_cell) { window._pyforest_update_imports_cell('from scipy import stats'); }\n",
       "    "
      ],
      "text/plain": [
       "<IPython.core.display.Javascript object>"
      ]
     },
     "metadata": {},
     "output_type": "display_data"
    },
    {
     "name": "stdout",
     "output_type": "stream",
     "text": [
      "Proportion of the gunny bags have a breaking strength less than 3.17 kg per sq cm:  0.11123243744783456\n"
     ]
    }
   ],
   "source": [
    "z1=(x_bar-mu)/sigma\n",
    "p1=stats.norm.cdf(z1)\n",
    "print(\"Proportion of the gunny bags have a breaking strength less than 3.17 kg per sq cm: \",p1)"
   ]
  },
  {
   "cell_type": "code",
   "execution_count": 51,
   "id": "25838cb7",
   "metadata": {},
   "outputs": [
    {
     "data": {
      "image/png": "[encoded data removed]",
      "text/plain": [
       "<Figure size 432x288 with 1 Axes>"
      ]
     },
     "metadata": {
      "needs_background": "light"
     },
     "output_type": "display_data"
    }
   ],
   "source": [
    "x_axis = np.linspace(mu - 4*sigma, mu + 4*sigma, 100)\n",
    "y_axis = norm.pdf(x_axis, mu, sigma)\n",
    "plt.plot(x_axis, y_axis)\n",
    "plt.fill_between(x_axis[x_axis <= x_bar], y_axis[x_axis <= x_bar], color='red')\n",
    "plt.xlabel('Breaking strength (kg per sq. centimeter)')\n",
    "plt.ylabel('Density')\n",
    "plt.title('Normal Distribution of Breaking Strength')\n",
    "plt.show()"
   ]
  },
  {
   "cell_type": "markdown",
   "id": "ba94f7dd",
   "metadata": {},
   "source": [
    "3.2 What proportion of the gunny bags have a breaking strength at least 3.6 kg per sq cm.?"
   ]
  },
  {
   "cell_type": "code",
   "execution_count": 56,
   "id": "a973e2a8",
   "metadata": {},
   "outputs": [],
   "source": [
    "x_bar1=3.6"
   ]
  },
  {
   "cell_type": "code",
   "execution_count": 61,
   "id": "53fa238b",
   "metadata": {},
   "outputs": [
    {
     "data": {
      "application/javascript": [
       "\n",
       "        if (window._pyforest_update_imports_cell) { window._pyforest_update_imports_cell('from scipy import stats'); }\n",
       "    "
      ],
      "text/plain": [
       "<IPython.core.display.Javascript object>"
      ]
     },
     "metadata": {},
     "output_type": "display_data"
    }
   ],
   "source": [
    "z2=(x_bar1-mu)/sigma\n",
    "p2=1-stats.norm.cdf(z2)"
   ]
  },
  {
   "cell_type": "code",
   "execution_count": 62,
   "id": "27af6fd5",
   "metadata": {},
   "outputs": [
    {
     "data": {
      "text/plain": [
       "0.8246760551477705"
      ]
     },
     "execution_count": 62,
     "metadata": {},
     "output_type": "execute_result"
    }
   ],
   "source": [
    "p2"
   ]
  },
  {
   "cell_type": "code",
   "execution_count": 63,
   "id": "c67d2ead",
   "metadata": {},
   "outputs": [
    {
     "data": {
      "image/png": "[encoded data removed]",
      "text/plain": [
       "<Figure size 432x288 with 1 Axes>"
      ]
     },
     "metadata": {
      "needs_background": "light"
     },
     "output_type": "display_data"
    }
   ],
   "source": [
    "x_axis = np.linspace(mu - 4*sigma, mu + 4*sigma, 100)\n",
    "y_axis = norm.pdf(x_axis, mu, sigma)\n",
    "plt.plot(x_axis, y_axis)\n",
    "plt.fill_between(x_axis[x_axis >= x_bar1], y_axis[x_axis >= x_bar1], color='orange')\n",
    "\n",
    "plt.xlabel('Breaking strength (kg per sq. centimeter)')\n",
    "plt.ylabel('Density')\n",
    "plt.title('Normal Distribution of Breaking Strength')\n",
    "\n",
    "plt.show()"
   ]
  },
  {
   "cell_type": "markdown",
   "id": "90c4b26b",
   "metadata": {},
   "source": [
    "3.3 What proportion of the gunny bags have a breaking strength between 5 and 5.5 kg per sq cm.?\n",
    "\n"
   ]
  },
  {
   "cell_type": "code",
   "execution_count": 64,
   "id": "f1d5fee5",
   "metadata": {},
   "outputs": [
    {
     "data": {
      "application/javascript": [
       "\n",
       "        if (window._pyforest_update_imports_cell) { window._pyforest_update_imports_cell('from scipy import stats'); }\n",
       "    "
      ],
      "text/plain": [
       "<IPython.core.display.Javascript object>"
      ]
     },
     "metadata": {},
     "output_type": "display_data"
    },
    {
     "data": {
      "application/javascript": [
       "\n",
       "        if (window._pyforest_update_imports_cell) { window._pyforest_update_imports_cell('from scipy import stats'); }\n",
       "    "
      ],
      "text/plain": [
       "<IPython.core.display.Javascript object>"
      ]
     },
     "metadata": {},
     "output_type": "display_data"
    }
   ],
   "source": [
    "x3=5\n",
    "z3=(x3-mu)/sigma\n",
    "x4=5.5\n",
    "z4=(x4-mu)/sigma\n",
    "p2=stats.norm.cdf(z3)\n",
    "p3=stats.norm.cdf(z4)\n",
    "p4=p3-p2"
   ]
  },
  {
   "cell_type": "code",
   "execution_count": 65,
   "id": "4cf7f341",
   "metadata": {},
   "outputs": [
    {
     "data": {
      "text/plain": [
       "0.13055865981823633"
      ]
     },
     "execution_count": 65,
     "metadata": {},
     "output_type": "execute_result"
    }
   ],
   "source": [
    "p4"
   ]
  },
  {
   "cell_type": "code",
   "execution_count": 66,
   "id": "c89d179a",
   "metadata": {},
   "outputs": [
    {
     "data": {
      "image/png": "[encoded data removed]",
      "text/plain": [
       "<Figure size 432x288 with 1 Axes>"
      ]
     },
     "metadata": {
      "needs_background": "light"
     },
     "output_type": "display_data"
    }
   ],
   "source": [
    "x_axis = np.linspace(mu - 4*sigma, mu + 4*sigma, 100)\n",
    "y_axis = norm.pdf(x_axis, mu, sigma)\n",
    "plt.plot(x_axis, y_axis)\n",
    "\n",
    "plt.fill_between(x_axis[(x_axis >= x3) & (x_axis <= x4)], y_axis[(x_axis >= x3) & (x_axis <= x4)], color='green')\n",
    "\n",
    "plt.xlabel('Breaking strength (kg per sq. centimeter)')\n",
    "plt.ylabel('Density')\n",
    "plt.title('Normal Distribution of Breaking Strength')\n",
    "\n",
    "plt.show()"
   ]
  },
  {
   "cell_type": "markdown",
   "id": "ffe7e89c",
   "metadata": {},
   "source": [
    "3.4 What proportion of the gunny bags have a breaking strength NOT between 3 and 7.5 kg per sq cm.?"
   ]
  },
  {
   "cell_type": "code",
   "execution_count": 71,
   "id": "ba5fa172",
   "metadata": {},
   "outputs": [
    {
     "data": {
      "text/plain": [
       "0.13900157199868257"
      ]
     },
     "execution_count": 71,
     "metadata": {},
     "output_type": "execute_result"
    }
   ],
   "source": [
    "x1 = 3\n",
    "x2 = 7.5\n",
    "z1 = (x1 - mu) / sigma\n",
    "z2 = (x2 - mu) / sigma\n",
    "p1 = norm.cdf(z1)\n",
    "p2 = 1 - norm.cdf(z2)\n",
    "p = p1 + p2\n",
    "p"
   ]
  },
  {
   "cell_type": "code",
   "execution_count": 72,
   "id": "fb8a5758",
   "metadata": {},
   "outputs": [
    {
     "data": {
      "image/png": "[encoded data removed]",
      "text/plain": [
       "<Figure size 432x288 with 1 Axes>"
      ]
     },
     "metadata": {
      "needs_background": "light"
     },
     "output_type": "display_data"
    }
   ],
   "source": [
    "\n",
    "x_axis = np.linspace(mu - 4*sigma, mu + 4*sigma, 100)\n",
    "y_axis = norm.pdf(x_axis, mu, sigma)\n",
    "plt.plot(x_axis, y_axis)\n",
    "plt.fill_between(x_axis[x_axis <= x1], y_axis[x_axis <= x1], color='green')\n",
    "plt.fill_between(x_axis[x_axis >= x2], y_axis[x_axis >= x2], color='green')\n",
    "plt.xlabel('Breaking strength (kg per sq. centimeter)')\n",
    "plt.ylabel('Density')\n",
    "plt.title('Normal Distribution of Breaking Strength')\n",
    "plt.show()\n"
   ]
  },
  {
   "cell_type": "markdown",
   "id": "3df6dd85",
   "metadata": {},
   "source": [
    "# Problem 4:"
   ]
  },
  {
   "cell_type": "markdown",
   "id": "0c835740",
   "metadata": {},
   "source": [
    "4.1 What is the probability that a randomly chosen student gets a grade below 85 on this exam?"
   ]
  },
  {
   "cell_type": "code",
   "execution_count": 77,
   "id": "c2ff0285",
   "metadata": {},
   "outputs": [],
   "source": [
    "mu=77\n",
    "sigma=8.5"
   ]
  },
  {
   "cell_type": "code",
   "execution_count": 79,
   "id": "e2b36a4f",
   "metadata": {},
   "outputs": [
    {
     "data": {
      "application/javascript": [
       "\n",
       "        if (window._pyforest_update_imports_cell) { window._pyforest_update_imports_cell('from scipy import stats'); }\n",
       "    "
      ],
      "text/plain": [
       "<IPython.core.display.Javascript object>"
      ]
     },
     "metadata": {},
     "output_type": "display_data"
    },
    {
     "name": "stdout",
     "output_type": "stream",
     "text": [
      "The probability that a randomly chosen student gets a grade below 85 on this exam: 0.8266927837484748\n"
     ]
    }
   ],
   "source": [
    "x1=85\n",
    "z=(x1-mu)/sigma\n",
    "p=stats.norm.cdf(z)\n",
    "print(\"The probability that a randomly chosen student gets a grade below 85 on this exam:\",p)"
   ]
  },
  {
   "cell_type": "markdown",
   "id": "13695ee5",
   "metadata": {},
   "source": [
    "4.2 What is the probability that a randomly selected student scores between 65 and 87?"
   ]
  },
  {
   "cell_type": "code",
   "execution_count": 82,
   "id": "259d3da1",
   "metadata": {},
   "outputs": [
    {
     "data": {
      "application/javascript": [
       "\n",
       "        if (window._pyforest_update_imports_cell) { window._pyforest_update_imports_cell('from scipy import stats'); }\n",
       "    "
      ],
      "text/plain": [
       "<IPython.core.display.Javascript object>"
      ]
     },
     "metadata": {},
     "output_type": "display_data"
    },
    {
     "data": {
      "application/javascript": [
       "\n",
       "        if (window._pyforest_update_imports_cell) { window._pyforest_update_imports_cell('from scipy import stats'); }\n",
       "    "
      ],
      "text/plain": [
       "<IPython.core.display.Javascript object>"
      ]
     },
     "metadata": {},
     "output_type": "display_data"
    },
    {
     "name": "stdout",
     "output_type": "stream",
     "text": [
      "The probability that a randomly selected student scores between 65 and 87: 0.8012869336779058\n"
     ]
    }
   ],
   "source": [
    "x2=65\n",
    "x3=87\n",
    "z1=(x2-mu)/sigma\n",
    "z2=(x3-mu)/sigma\n",
    "p1=stats.norm.cdf(z1)\n",
    "p2=stats.norm.cdf(z2)\n",
    "p2-p1\n",
    "print(\"The probability that a randomly selected student scores between 65 and 87:\",p2-p1)"
   ]
  },
  {
   "cell_type": "markdown",
   "id": "e192ce5c",
   "metadata": {},
   "source": [
    "4.3 What should be the passing cut-off so that 75% of the students clear the exam?"
   ]
  },
  {
   "cell_type": "code",
   "execution_count": 84,
   "id": "0e149aef",
   "metadata": {},
   "outputs": [
    {
     "data": {
      "application/javascript": [
       "\n",
       "        if (window._pyforest_update_imports_cell) { window._pyforest_update_imports_cell('from scipy import stats'); }\n",
       "    "
      ],
      "text/plain": [
       "<IPython.core.display.Javascript object>"
      ]
     },
     "metadata": {},
     "output_type": "display_data"
    },
    {
     "name": "stdout",
     "output_type": "stream",
     "text": [
      "The passing cut-off so that 75% of the students clear the exam: 82.7331628766667\n"
     ]
    }
   ],
   "source": [
    "a=0.75\n",
    "Prob = stats.norm.ppf(a, loc = mu, scale = sigma)\n",
    "print(\"The passing cut-off so that 75% of the students clear the exam:\",Prob)"
   ]
  },
  {
   "cell_type": "markdown",
   "id": "a70f0908",
   "metadata": {},
   "source": [
    "# Problem 5:"
   ]
  },
  {
   "cell_type": "code",
   "execution_count": 95,
   "id": "cb9c0ccd",
   "metadata": {},
   "outputs": [],
   "source": [
    "df=pd.read_csv(r'Downloads\\Zingaro_Company.csv')"
   ]
  },
  {
   "cell_type": "code",
   "execution_count": 96,
   "id": "6cffec80",
   "metadata": {},
   "outputs": [
    {
     "name": "stdout",
     "output_type": "stream",
     "text": [
      "<class 'pandas.core.frame.DataFrame'>\n",
      "RangeIndex: 75 entries, 0 to 74\n",
      "Data columns (total 2 columns):\n",
      " #   Column                Non-Null Count  Dtype  \n",
      "---  ------                --------------  -----  \n",
      " 0   Unpolished            75 non-null     float64\n",
      " 1   Treated and Polished  75 non-null     float64\n",
      "dtypes: float64(2)\n",
      "memory usage: 1.3 KB\n"
     ]
    }
   ],
   "source": [
    "df.info()"
   ]
  },
  {
   "cell_type": "code",
   "execution_count": 103,
   "id": "afe00133",
   "metadata": {},
   "outputs": [
    {
     "data": {
      "text/html": [
       "<div>\n",
       "<style scoped>\n",
       "    .dataframe tbody tr th:only-of-type {\n",
       "        vertical-align: middle;\n",
       "    }\n",
       "\n",
       "    .dataframe tbody tr th {\n",
       "        vertical-align: top;\n",
       "    }\n",
       "\n",
       "    .dataframe thead th {\n",
       "        text-align: right;\n",
       "    }\n",
       "</style>\n",
       "<table border=\"1\" class=\"dataframe\">\n",
       "  <thead>\n",
       "    <tr style=\"text-align: right;\">\n",
       "      <th></th>\n",
       "      <th>Unpolished</th>\n",
       "      <th>Treated and Polished</th>\n",
       "    </tr>\n",
       "  </thead>\n",
       "  <tbody>\n",
       "    <tr>\n",
       "      <th>0</th>\n",
       "      <td>164.481713</td>\n",
       "      <td>133.209393</td>\n",
       "    </tr>\n",
       "    <tr>\n",
       "      <th>1</th>\n",
       "      <td>154.307045</td>\n",
       "      <td>138.482771</td>\n",
       "    </tr>\n",
       "    <tr>\n",
       "      <th>2</th>\n",
       "      <td>129.861048</td>\n",
       "      <td>159.665201</td>\n",
       "    </tr>\n",
       "    <tr>\n",
       "      <th>3</th>\n",
       "      <td>159.096184</td>\n",
       "      <td>145.663528</td>\n",
       "    </tr>\n",
       "    <tr>\n",
       "      <th>4</th>\n",
       "      <td>135.256748</td>\n",
       "      <td>136.789227</td>\n",
       "    </tr>\n",
       "    <tr>\n",
       "      <th>...</th>\n",
       "      <td>...</td>\n",
       "      <td>...</td>\n",
       "    </tr>\n",
       "    <tr>\n",
       "      <th>70</th>\n",
       "      <td>123.067611</td>\n",
       "      <td>142.293544</td>\n",
       "    </tr>\n",
       "    <tr>\n",
       "      <th>71</th>\n",
       "      <td>171.822218</td>\n",
       "      <td>140.124092</td>\n",
       "    </tr>\n",
       "    <tr>\n",
       "      <th>72</th>\n",
       "      <td>88.135994</td>\n",
       "      <td>141.393091</td>\n",
       "    </tr>\n",
       "    <tr>\n",
       "      <th>73</th>\n",
       "      <td>145.150397</td>\n",
       "      <td>131.370530</td>\n",
       "    </tr>\n",
       "    <tr>\n",
       "      <th>74</th>\n",
       "      <td>170.854823</td>\n",
       "      <td>144.502647</td>\n",
       "    </tr>\n",
       "  </tbody>\n",
       "</table>\n",
       "<p>75 rows × 2 columns</p>\n",
       "</div>"
      ],
      "text/plain": [
       "    Unpolished   Treated and Polished\n",
       "0    164.481713            133.209393\n",
       "1    154.307045            138.482771\n",
       "2    129.861048            159.665201\n",
       "3    159.096184            145.663528\n",
       "4    135.256748            136.789227\n",
       "..          ...                   ...\n",
       "70   123.067611            142.293544\n",
       "71   171.822218            140.124092\n",
       "72    88.135994            141.393091\n",
       "73   145.150397            131.370530\n",
       "74   170.854823            144.502647\n",
       "\n",
       "[75 rows x 2 columns]"
      ]
     },
     "execution_count": 103,
     "metadata": {},
     "output_type": "execute_result"
    }
   ],
   "source": [
    "df=pd.DataFrame(df)\n",
    "df"
   ]
  },
  {
   "cell_type": "markdown",
   "id": "c4b5242d",
   "metadata": {},
   "source": [
    "Null hypothesis(H0): μ >= 150\n",
    "Alternative Hypothesis (HA): μ < 150\n",
    "Here we have a sample size(n) of: 75"
   ]
  },
  {
   "cell_type": "code",
   "execution_count": 105,
   "id": "7d2956f8",
   "metadata": {},
   "outputs": [
    {
     "data": {
      "text/plain": [
       "Index(['Unpolished ', 'Treated and Polished'], dtype='object')"
      ]
     },
     "execution_count": 105,
     "metadata": {},
     "output_type": "execute_result"
    }
   ],
   "source": [
    "df.columns"
   ]
  },
  {
   "cell_type": "code",
   "execution_count": 149,
   "id": "f4bb957f",
   "metadata": {},
   "outputs": [
    {
     "data": {
      "text/plain": [
       "134.11052653373335"
      ]
     },
     "execution_count": 149,
     "metadata": {},
     "output_type": "execute_result"
    }
   ],
   "source": [
    "meanU=df['Unpolished '].mean()\n",
    "stdU=np.std(df['Unpolished '])\n",
    "\n",
    "n=75\n",
    "mu=150\n",
    "mean5"
   ]
  },
  {
   "cell_type": "code",
   "execution_count": 150,
   "id": "55e8ce9f",
   "metadata": {},
   "outputs": [],
   "source": [
    "se = stdU / (n ** 0.5)"
   ]
  },
  {
   "cell_type": "code",
   "execution_count": 141,
   "id": "e3f343e0",
   "metadata": {},
   "outputs": [
    {
     "data": {
      "text/plain": [
       "3.789817986344591"
      ]
     },
     "execution_count": 141,
     "metadata": {},
     "output_type": "execute_result"
    }
   ],
   "source": [
    "se"
   ]
  },
  {
   "cell_type": "code",
   "execution_count": 142,
   "id": "63c2a3f2",
   "metadata": {},
   "outputs": [
    {
     "data": {
      "text/plain": [
       "-4.192674562081698"
      ]
     },
     "execution_count": 142,
     "metadata": {},
     "output_type": "execute_result"
    }
   ],
   "source": [
    "z_score=(meanU-mu)/se\n",
    "z_score"
   ]
  },
  {
   "cell_type": "code",
   "execution_count": 143,
   "id": "3654c631",
   "metadata": {},
   "outputs": [
    {
     "name": "stdout",
     "output_type": "stream",
     "text": [
      "1.3784239806865592e-05\n"
     ]
    }
   ],
   "source": [
    "p_value=norm.cdf(z_score)\n",
    "print(p_value)"
   ]
  },
  {
   "cell_type": "markdown",
   "id": "b398f13a",
   "metadata": {},
   "source": [
    " p-value for unpolished~0 < 0.05 (i.e. α) and hence Null Hypothesis is rejected in that case. So, unpolished  stones do  not have a Brinell's  hardness index of at least  150.  "
   ]
  },
  {
   "cell_type": "markdown",
   "id": "de7d7993",
   "metadata": {},
   "source": [
    "5.2 Is the mean hardness of the polished and unpolished stones the same?"
   ]
  },
  {
   "cell_type": "markdown",
   "id": "8ddc6d27",
   "metadata": {},
   "source": [
    "Null hypothesis(H0): μP = μU\n",
    "\n",
    "Alternative Hypothesis (HA) : μP ≠ μU"
   ]
  },
  {
   "cell_type": "code",
   "execution_count": 147,
   "id": "b382e369",
   "metadata": {},
   "outputs": [
    {
     "data": {
      "text/plain": [
       "134.11052653373335"
      ]
     },
     "execution_count": 147,
     "metadata": {},
     "output_type": "execute_result"
    }
   ],
   "source": [
    "meanU #mean for the UnPolished\n"
   ]
  },
  {
   "cell_type": "code",
   "execution_count": 152,
   "id": "39cda371",
   "metadata": {},
   "outputs": [
    {
     "data": {
      "text/plain": [
       "147.78811718133335"
      ]
     },
     "execution_count": 152,
     "metadata": {},
     "output_type": "execute_result"
    }
   ],
   "source": [
    "meanP=df['Treated and Polished'].mean() #mean for the Polished\n",
    "meanP=147.78811718133335"
   ]
  },
  {
   "cell_type": "code",
   "execution_count": 171,
   "id": "68039f94",
   "metadata": {},
   "outputs": [
    {
     "data": {
      "text/plain": [
       "15.483090856963432"
      ]
     },
     "execution_count": 171,
     "metadata": {},
     "output_type": "execute_result"
    }
   ],
   "source": [
    "stdP=np.std(df['Treated and Polished'])\n",
    "stdP\n"
   ]
  },
  {
   "cell_type": "code",
   "execution_count": 173,
   "id": "a126ad85",
   "metadata": {},
   "outputs": [
    {
     "data": {
      "text/plain": [
       "1.787833334831054"
      ]
     },
     "execution_count": 173,
     "metadata": {},
     "output_type": "execute_result"
    }
   ],
   "source": [
    "seP = stdP / (n ** 0.5)\n",
    "seP"
   ]
  },
  {
   "cell_type": "code",
   "execution_count": 174,
   "id": "cc40ebc9",
   "metadata": {},
   "outputs": [
    {
     "data": {
      "text/plain": [
       "7.650372314426333"
      ]
     },
     "execution_count": 174,
     "metadata": {},
     "output_type": "execute_result"
    }
   ],
   "source": [
    "z_scoreP=(meanP-meanU)/seP\n",
    "z_scoreP"
   ]
  },
  {
   "cell_type": "code",
   "execution_count": 175,
   "id": "414c670e",
   "metadata": {},
   "outputs": [],
   "source": [
    "p_valueP = norm.sf(abs(z_scoreP)) * 2"
   ]
  },
  {
   "cell_type": "code",
   "execution_count": 176,
   "id": "1c7196fc",
   "metadata": {},
   "outputs": [
    {
     "data": {
      "text/plain": [
       "2.0039823815285965e-14"
      ]
     },
     "execution_count": 176,
     "metadata": {},
     "output_type": "execute_result"
    }
   ],
   "source": [
    "p_valueP"
   ]
  },
  {
   "cell_type": "markdown",
   "id": "5091129d",
   "metadata": {},
   "source": [
    "the  hardness  of  polishes  and  unpolished  stones  are significantly different"
   ]
  },
  {
   "cell_type": "code",
   "execution_count": 183,
   "id": "5487c0b6",
   "metadata": {},
   "outputs": [],
   "source": [
    "from   scipy.stats import ttest_1samp, ttest_ind\n",
    "import statsmodels.stats.api as sm"
   ]
  },
  {
   "cell_type": "markdown",
   "id": "db43a6ca",
   "metadata": {},
   "source": [
    "Problem 6"
   ]
  },
  {
   "cell_type": "markdown",
   "id": "cad00c4f",
   "metadata": {},
   "source": [
    "Null: mean difference <= 5 \n",
    "Alternate: mean difference > 5"
   ]
  },
  {
   "cell_type": "code",
   "execution_count": 178,
   "id": "e4ba4095",
   "metadata": {},
   "outputs": [],
   "source": [
    "df1=pd.read_csv(r'Downloads\\Aquarius_gym.csv')"
   ]
  },
  {
   "cell_type": "code",
   "execution_count": 181,
   "id": "303ad855",
   "metadata": {},
   "outputs": [
    {
     "name": "stdout",
     "output_type": "stream",
     "text": [
      "<class 'pandas.core.frame.DataFrame'>\n",
      "RangeIndex: 100 entries, 0 to 99\n",
      "Data columns (total 3 columns):\n",
      " #   Column  Non-Null Count  Dtype\n",
      "---  ------  --------------  -----\n",
      " 0   Sr no.  100 non-null    int64\n",
      " 1   Before  100 non-null    int64\n",
      " 2   After   100 non-null    int64\n",
      "dtypes: int64(3)\n",
      "memory usage: 2.5 KB\n"
     ]
    }
   ],
   "source": [
    "df1.info()"
   ]
  },
  {
   "cell_type": "code",
   "execution_count": 180,
   "id": "e6afdbc8",
   "metadata": {},
   "outputs": [
    {
     "data": {
      "text/html": [
       "<div>\n",
       "<style scoped>\n",
       "    .dataframe tbody tr th:only-of-type {\n",
       "        vertical-align: middle;\n",
       "    }\n",
       "\n",
       "    .dataframe tbody tr th {\n",
       "        vertical-align: top;\n",
       "    }\n",
       "\n",
       "    .dataframe thead th {\n",
       "        text-align: right;\n",
       "    }\n",
       "</style>\n",
       "<table border=\"1\" class=\"dataframe\">\n",
       "  <thead>\n",
       "    <tr style=\"text-align: right;\">\n",
       "      <th></th>\n",
       "      <th>Sr no.</th>\n",
       "      <th>Before</th>\n",
       "      <th>After</th>\n",
       "    </tr>\n",
       "  </thead>\n",
       "  <tbody>\n",
       "    <tr>\n",
       "      <th>0</th>\n",
       "      <td>1</td>\n",
       "      <td>39</td>\n",
       "      <td>44</td>\n",
       "    </tr>\n",
       "    <tr>\n",
       "      <th>1</th>\n",
       "      <td>2</td>\n",
       "      <td>25</td>\n",
       "      <td>25</td>\n",
       "    </tr>\n",
       "    <tr>\n",
       "      <th>2</th>\n",
       "      <td>3</td>\n",
       "      <td>39</td>\n",
       "      <td>39</td>\n",
       "    </tr>\n",
       "    <tr>\n",
       "      <th>3</th>\n",
       "      <td>4</td>\n",
       "      <td>6</td>\n",
       "      <td>13</td>\n",
       "    </tr>\n",
       "    <tr>\n",
       "      <th>4</th>\n",
       "      <td>5</td>\n",
       "      <td>40</td>\n",
       "      <td>44</td>\n",
       "    </tr>\n",
       "  </tbody>\n",
       "</table>\n",
       "</div>"
      ],
      "text/plain": [
       "   Sr no.  Before  After\n",
       "0       1      39     44\n",
       "1       2      25     25\n",
       "2       3      39     39\n",
       "3       4       6     13\n",
       "4       5      40     44"
      ]
     },
     "execution_count": 180,
     "metadata": {},
     "output_type": "execute_result"
    }
   ],
   "source": [
    "df1.head()"
   ]
  },
  {
   "cell_type": "code",
   "execution_count": 187,
   "id": "36095352",
   "metadata": {},
   "outputs": [
    {
     "data": {
      "application/javascript": [
       "\n",
       "        if (window._pyforest_update_imports_cell) { window._pyforest_update_imports_cell('from scipy import stats'); }\n",
       "    "
      ],
      "text/plain": [
       "<IPython.core.display.Javascript object>"
      ]
     },
     "metadata": {},
     "output_type": "display_data"
    },
    {
     "name": "stdout",
     "output_type": "stream",
     "text": [
      "tstat -19.322619811082458\n",
      "P Value 2.2920419252511966e-35\n"
     ]
    }
   ],
   "source": [
    "t_statistic, p_value  = stats.ttest_rel(df1['Before'],df1['After'])\n",
    "print('tstat',t_statistic)    \n",
    "print('P Value',p_value)    "
   ]
  },
  {
   "cell_type": "markdown",
   "id": "6ccfdcfe",
   "metadata": {},
   "source": [
    "Since P value<0.05, So the claim that the Aquarius gym training makes a difference of more than 5 push-ups is supported by data. "
   ]
  },
  {
   "cell_type": "markdown",
   "id": "5af43dbb",
   "metadata": {},
   "source": [
    "# Problem 7:\n",
    "\n"
   ]
  },
  {
   "cell_type": "code",
   "execution_count": 208,
   "id": "1ee9dc4b",
   "metadata": {},
   "outputs": [],
   "source": [
    "df1=pd.read_excel(r'Downloads\\Dental Hardness data.xlsx')\n"
   ]
  },
  {
   "cell_type": "code",
   "execution_count": 209,
   "id": "da0df3db",
   "metadata": {},
   "outputs": [
    {
     "data": {
      "text/html": [
       "<div>\n",
       "<style scoped>\n",
       "    .dataframe tbody tr th:only-of-type {\n",
       "        vertical-align: middle;\n",
       "    }\n",
       "\n",
       "    .dataframe tbody tr th {\n",
       "        vertical-align: top;\n",
       "    }\n",
       "\n",
       "    .dataframe thead th {\n",
       "        text-align: right;\n",
       "    }\n",
       "</style>\n",
       "<table border=\"1\" class=\"dataframe\">\n",
       "  <thead>\n",
       "    <tr style=\"text-align: right;\">\n",
       "      <th></th>\n",
       "      <th>Dentist</th>\n",
       "      <th>Method</th>\n",
       "      <th>Alloy</th>\n",
       "      <th>Temp</th>\n",
       "      <th>Response</th>\n",
       "      <th>Unnamed: 5</th>\n",
       "      <th>Unnamed: 6</th>\n",
       "      <th>Unnamed: 7</th>\n",
       "      <th>Unnamed: 8</th>\n",
       "      <th>Unnamed: 9</th>\n",
       "      <th>Unnamed: 10</th>\n",
       "      <th>Unnamed: 11</th>\n",
       "      <th>Unnamed: 12</th>\n",
       "      <th>Unnamed: 13</th>\n",
       "    </tr>\n",
       "  </thead>\n",
       "  <tbody>\n",
       "    <tr>\n",
       "      <th>0</th>\n",
       "      <td>1.0</td>\n",
       "      <td>1.0</td>\n",
       "      <td>1.0</td>\n",
       "      <td>1500.0</td>\n",
       "      <td>813.0</td>\n",
       "      <td>NaN</td>\n",
       "      <td>NaN</td>\n",
       "      <td>Anova: Two-Factor Without Replication</td>\n",
       "      <td>NaN</td>\n",
       "      <td>NaN</td>\n",
       "      <td>NaN</td>\n",
       "      <td>NaN</td>\n",
       "      <td>NaN</td>\n",
       "      <td>NaN</td>\n",
       "    </tr>\n",
       "    <tr>\n",
       "      <th>1</th>\n",
       "      <td>1.0</td>\n",
       "      <td>1.0</td>\n",
       "      <td>1.0</td>\n",
       "      <td>1600.0</td>\n",
       "      <td>792.0</td>\n",
       "      <td>NaN</td>\n",
       "      <td>NaN</td>\n",
       "      <td>NaN</td>\n",
       "      <td>NaN</td>\n",
       "      <td>NaN</td>\n",
       "      <td>NaN</td>\n",
       "      <td>NaN</td>\n",
       "      <td>NaN</td>\n",
       "      <td>NaN</td>\n",
       "    </tr>\n",
       "    <tr>\n",
       "      <th>2</th>\n",
       "      <td>1.0</td>\n",
       "      <td>1.0</td>\n",
       "      <td>1.0</td>\n",
       "      <td>1700.0</td>\n",
       "      <td>792.0</td>\n",
       "      <td>NaN</td>\n",
       "      <td>NaN</td>\n",
       "      <td>SUMMARY</td>\n",
       "      <td>Count</td>\n",
       "      <td>Sum</td>\n",
       "      <td>Average</td>\n",
       "      <td>Variance</td>\n",
       "      <td>NaN</td>\n",
       "      <td>NaN</td>\n",
       "    </tr>\n",
       "    <tr>\n",
       "      <th>3</th>\n",
       "      <td>1.0</td>\n",
       "      <td>1.0</td>\n",
       "      <td>2.0</td>\n",
       "      <td>1500.0</td>\n",
       "      <td>907.0</td>\n",
       "      <td>NaN</td>\n",
       "      <td>NaN</td>\n",
       "      <td>1</td>\n",
       "      <td>4</td>\n",
       "      <td>2315</td>\n",
       "      <td>578.75</td>\n",
       "      <td>523721.583333</td>\n",
       "      <td>NaN</td>\n",
       "      <td>NaN</td>\n",
       "    </tr>\n",
       "    <tr>\n",
       "      <th>4</th>\n",
       "      <td>1.0</td>\n",
       "      <td>1.0</td>\n",
       "      <td>2.0</td>\n",
       "      <td>1600.0</td>\n",
       "      <td>792.0</td>\n",
       "      <td>NaN</td>\n",
       "      <td>NaN</td>\n",
       "      <td>1</td>\n",
       "      <td>4</td>\n",
       "      <td>2394</td>\n",
       "      <td>598.5</td>\n",
       "      <td>584819</td>\n",
       "      <td>NaN</td>\n",
       "      <td>NaN</td>\n",
       "    </tr>\n",
       "  </tbody>\n",
       "</table>\n",
       "</div>"
      ],
      "text/plain": [
       "   Dentist  Method  Alloy    Temp  Response  Unnamed: 5  Unnamed: 6  \\\n",
       "0      1.0     1.0    1.0  1500.0     813.0         NaN         NaN   \n",
       "1      1.0     1.0    1.0  1600.0     792.0         NaN         NaN   \n",
       "2      1.0     1.0    1.0  1700.0     792.0         NaN         NaN   \n",
       "3      1.0     1.0    2.0  1500.0     907.0         NaN         NaN   \n",
       "4      1.0     1.0    2.0  1600.0     792.0         NaN         NaN   \n",
       "\n",
       "                              Unnamed: 7 Unnamed: 8 Unnamed: 9 Unnamed: 10  \\\n",
       "0  Anova: Two-Factor Without Replication        NaN        NaN         NaN   \n",
       "1                                    NaN        NaN        NaN         NaN   \n",
       "2                                SUMMARY      Count        Sum     Average   \n",
       "3                                      1          4       2315      578.75   \n",
       "4                                      1          4       2394       598.5   \n",
       "\n",
       "     Unnamed: 11 Unnamed: 12 Unnamed: 13  \n",
       "0            NaN         NaN         NaN  \n",
       "1            NaN         NaN         NaN  \n",
       "2       Variance         NaN         NaN  \n",
       "3  523721.583333         NaN         NaN  \n",
       "4         584819         NaN         NaN  "
      ]
     },
     "execution_count": 209,
     "metadata": {},
     "output_type": "execute_result"
    }
   ],
   "source": [
    "df1.head()"
   ]
  },
  {
   "cell_type": "code",
   "execution_count": 210,
   "id": "8589c9c1",
   "metadata": {},
   "outputs": [
    {
     "name": "stdout",
     "output_type": "stream",
     "text": [
      "<class 'pandas.core.frame.DataFrame'>\n",
      "RangeIndex: 107 entries, 0 to 106\n",
      "Data columns (total 14 columns):\n",
      " #   Column       Non-Null Count  Dtype  \n",
      "---  ------       --------------  -----  \n",
      " 0   Dentist      90 non-null     float64\n",
      " 1   Method       90 non-null     float64\n",
      " 2   Alloy        90 non-null     float64\n",
      " 3   Temp         90 non-null     float64\n",
      " 4   Response     90 non-null     float64\n",
      " 5   Unnamed: 5   0 non-null      float64\n",
      " 6   Unnamed: 6   0 non-null      float64\n",
      " 7   Unnamed: 7   102 non-null    object \n",
      " 8   Unnamed: 8   100 non-null    object \n",
      " 9   Unnamed: 9   100 non-null    object \n",
      " 10  Unnamed: 10  99 non-null     object \n",
      " 11  Unnamed: 11  98 non-null     object \n",
      " 12  Unnamed: 12  3 non-null      object \n",
      " 13  Unnamed: 13  3 non-null      object \n",
      "dtypes: float64(7), object(7)\n",
      "memory usage: 11.8+ KB\n"
     ]
    }
   ],
   "source": [
    "df1.info()"
   ]
  },
  {
   "cell_type": "markdown",
   "id": "3cd8bfd3",
   "metadata": {},
   "source": [
    "1.Test whether there is any difference among the dentists on the implant hardness. State the null and alternative hypotheses. Note that both types of alloys cannot be considered together. You must state the null and alternative hypotheses separately for the two types of alloys.?"
   ]
  },
  {
   "cell_type": "markdown",
   "id": "f52daaed",
   "metadata": {},
   "source": [
    "Null: meandentist1 = meandentist2 = …  = meandentist5 \n",
    "Alternate: meandentist1 ≠  meandentist2 ≠  …  ≠ meandentist5 "
   ]
  },
  {
   "cell_type": "markdown",
   "id": "a380c06e",
   "metadata": {},
   "source": [
    "2.Before the hypotheses may be tested, state the required assumptions. Are the assumptions fulfilled? Comment separately on both alloy types.? "
   ]
  },
  {
   "cell_type": "markdown",
   "id": "0a3472d1",
   "metadata": {},
   "source": [
    "alloy1 and alloy 2 respectively in this case, for hypothesis testing the independence assumption between the independent variables viz., dentist, method, temperature needs to be tested to avoid Multicollinearity problem. Hence, Interaction(V1iV2j) = 0 (wherein V1 and V2 can be Dentist, Method, Alloy, and Temp having 5, 3, 2, 3 values respectively in the dataset)."
   ]
  },
  {
   "cell_type": "markdown",
   "id": "1f61494b",
   "metadata": {},
   "source": [
    "3.Irrespective of your conclusion in 2, we will continue with the testing procedure. What do you conclude regarding whether implant hardness depends on dentists? Clearly state your conclusion. If the null hypothesis is rejected, is it possible to identify which pairs of dentists differ?"
   ]
  },
  {
   "cell_type": "code",
   "execution_count": 211,
   "id": "c8285252",
   "metadata": {},
   "outputs": [],
   "source": [
    "from statsmodels.formula.api import ols \n",
    "from statsmodels.stats.anova import _get_covariance,anova_lm "
   ]
  },
  {
   "cell_type": "code",
   "execution_count": 212,
   "id": "e268480d",
   "metadata": {},
   "outputs": [
    {
     "data": {
      "text/plain": [
       "Index(['Dentist', 'Method', 'Alloy', 'Temp', 'Response', 'Unnamed: 5',\n",
       "       'Unnamed: 6', 'Unnamed: 7', 'Unnamed: 8', 'Unnamed: 9', 'Unnamed: 10',\n",
       "       'Unnamed: 11', 'Unnamed: 12', 'Unnamed: 13'],\n",
       "      dtype='object')"
      ]
     },
     "execution_count": 212,
     "metadata": {},
     "output_type": "execute_result"
    }
   ],
   "source": [
    "df1.columns"
   ]
  },
  {
   "cell_type": "code",
   "execution_count": 220,
   "id": "8e3fd8d1",
   "metadata": {},
   "outputs": [],
   "source": [
    "df1=df1[['Dentist', 'Method', 'Alloy', 'Temp']]\n",
    "df1.dropna(inplace=True)"
   ]
  },
  {
   "cell_type": "code",
   "execution_count": 231,
   "id": "08b547ca",
   "metadata": {},
   "outputs": [
    {
     "data": {
      "text/html": [
       "<div>\n",
       "<style scoped>\n",
       "    .dataframe tbody tr th:only-of-type {\n",
       "        vertical-align: middle;\n",
       "    }\n",
       "\n",
       "    .dataframe tbody tr th {\n",
       "        vertical-align: top;\n",
       "    }\n",
       "\n",
       "    .dataframe thead th {\n",
       "        text-align: right;\n",
       "    }\n",
       "</style>\n",
       "<table border=\"1\" class=\"dataframe\">\n",
       "  <thead>\n",
       "    <tr style=\"text-align: right;\">\n",
       "      <th></th>\n",
       "      <th>Dentist</th>\n",
       "      <th>Method</th>\n",
       "      <th>Alloy</th>\n",
       "      <th>Temp</th>\n",
       "    </tr>\n",
       "  </thead>\n",
       "  <tbody>\n",
       "    <tr>\n",
       "      <th>0</th>\n",
       "      <td>1.0</td>\n",
       "      <td>1.0</td>\n",
       "      <td>1.0</td>\n",
       "      <td>1500.0</td>\n",
       "    </tr>\n",
       "    <tr>\n",
       "      <th>1</th>\n",
       "      <td>1.0</td>\n",
       "      <td>1.0</td>\n",
       "      <td>1.0</td>\n",
       "      <td>1600.0</td>\n",
       "    </tr>\n",
       "    <tr>\n",
       "      <th>2</th>\n",
       "      <td>1.0</td>\n",
       "      <td>1.0</td>\n",
       "      <td>1.0</td>\n",
       "      <td>1700.0</td>\n",
       "    </tr>\n",
       "    <tr>\n",
       "      <th>3</th>\n",
       "      <td>1.0</td>\n",
       "      <td>1.0</td>\n",
       "      <td>2.0</td>\n",
       "      <td>1500.0</td>\n",
       "    </tr>\n",
       "    <tr>\n",
       "      <th>4</th>\n",
       "      <td>1.0</td>\n",
       "      <td>1.0</td>\n",
       "      <td>2.0</td>\n",
       "      <td>1600.0</td>\n",
       "    </tr>\n",
       "    <tr>\n",
       "      <th>...</th>\n",
       "      <td>...</td>\n",
       "      <td>...</td>\n",
       "      <td>...</td>\n",
       "      <td>...</td>\n",
       "    </tr>\n",
       "    <tr>\n",
       "      <th>85</th>\n",
       "      <td>5.0</td>\n",
       "      <td>3.0</td>\n",
       "      <td>1.0</td>\n",
       "      <td>1600.0</td>\n",
       "    </tr>\n",
       "    <tr>\n",
       "      <th>86</th>\n",
       "      <td>5.0</td>\n",
       "      <td>3.0</td>\n",
       "      <td>1.0</td>\n",
       "      <td>1700.0</td>\n",
       "    </tr>\n",
       "    <tr>\n",
       "      <th>87</th>\n",
       "      <td>5.0</td>\n",
       "      <td>3.0</td>\n",
       "      <td>2.0</td>\n",
       "      <td>1500.0</td>\n",
       "    </tr>\n",
       "    <tr>\n",
       "      <th>88</th>\n",
       "      <td>5.0</td>\n",
       "      <td>3.0</td>\n",
       "      <td>2.0</td>\n",
       "      <td>1600.0</td>\n",
       "    </tr>\n",
       "    <tr>\n",
       "      <th>89</th>\n",
       "      <td>5.0</td>\n",
       "      <td>3.0</td>\n",
       "      <td>2.0</td>\n",
       "      <td>1700.0</td>\n",
       "    </tr>\n",
       "  </tbody>\n",
       "</table>\n",
       "<p>90 rows × 4 columns</p>\n",
       "</div>"
      ],
      "text/plain": [
       "    Dentist  Method  Alloy    Temp\n",
       "0       1.0     1.0    1.0  1500.0\n",
       "1       1.0     1.0    1.0  1600.0\n",
       "2       1.0     1.0    1.0  1700.0\n",
       "3       1.0     1.0    2.0  1500.0\n",
       "4       1.0     1.0    2.0  1600.0\n",
       "..      ...     ...    ...     ...\n",
       "85      5.0     3.0    1.0  1600.0\n",
       "86      5.0     3.0    1.0  1700.0\n",
       "87      5.0     3.0    2.0  1500.0\n",
       "88      5.0     3.0    2.0  1600.0\n",
       "89      5.0     3.0    2.0  1700.0\n",
       "\n",
       "[90 rows x 4 columns]"
      ]
     },
     "execution_count": 231,
     "metadata": {},
     "output_type": "execute_result"
    }
   ],
   "source": [
    "df1"
   ]
  },
  {
   "cell_type": "code",
   "execution_count": 230,
   "id": "5070fa36",
   "metadata": {},
   "outputs": [
    {
     "name": "stdout",
     "output_type": "stream",
     "text": [
      "             df        sum_sq       mean_sq             F  PR(>F)\n",
      "Dentist     3.0  1.723324e+08  5.744414e+07  34068.618417     0.0\n",
      "Residual  356.0  6.002625e+05  1.686131e+03           NaN     NaN\n"
     ]
    }
   ],
   "source": [
    "df2=df1.melt(var_name='Dentist')\n",
    "formula = 'value~Dentist'\n",
    "model = ols(formula, df2).fit()\n",
    "aov_table = anova_lm(model)\n",
    "print(aov_table)"
   ]
  },
  {
   "cell_type": "code",
   "execution_count": null,
   "id": "541fbfe2",
   "metadata": {},
   "outputs": [],
   "source": []
  },
  {
   "cell_type": "code",
   "execution_count": null,
   "id": "8486324e",
   "metadata": {},
   "outputs": [],
   "source": []
  }
 ],
 "metadata": {
  "kernelspec": {
   "display_name": "Python 3",
   "language": "python",
   "name": "python3"
  },
  "language_info": {
   "codemirror_mode": {
    "name": "ipython",
    "version": 3
   },
   "file_extension": ".py",
   "mimetype": "text/x-python",
   "name": "python",
   "nbconvert_exporter": "python",
   "pygments_lexer": "ipython3",
   "version": "3.8.8"
  }
 },
 "nbformat": 4,
 "nbformat_minor": 5
}
